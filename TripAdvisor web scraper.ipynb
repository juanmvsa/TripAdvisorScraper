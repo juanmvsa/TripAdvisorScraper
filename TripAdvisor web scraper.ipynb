{
 "cells": [
  {
   "cell_type": "code",
   "execution_count": null,
   "metadata": {},
   "outputs": [],
   "source": [
    "# Import the necessary libraries\n",
    "\n",
    "import pandas as pd\n",
    "import numpy as np\n",
    "import re\n",
    "import requests\n",
    "import time\n",
    "from time import sleep\n",
    "from bs4 import BeautifulSoup\n",
    "import urllib.request "
   ]
  },
  {
   "cell_type": "code",
   "execution_count": null,
   "metadata": {},
   "outputs": [],
   "source": [
    "# Creates a list of integers from 0 to 153710\n",
    "# The upper limit has to be set by the user\n",
    "# depending on the number of pages to be iterated through\n",
    "\n",
    "strings = list([x + 5 for x in range(153710) if x % 5 == 0])\n",
    "strings.insert(0,0) # insert a 0 at the first position of the list"
   ]
  },
  {
   "cell_type": "code",
   "execution_count": null,
   "metadata": {},
   "outputs": [],
   "source": [
    "# urla is the first chunk of the tourist site's url\n",
    "# urlb is the second chunk of the tourist site's url\n",
    "\n",
    "urls = []\n",
    "for i in pages:\n",
    "    urla = \"https://www.tripadvisor.com ... /Reviews-or\"\n",
    "    urlb = \"- site.html#REVIEWS\"\n",
    "    for s in strings:\n",
    "        url = urla + str(s) + urlb\n",
    "        url = requests.get(url).text\n",
    "        urls.append(url)"
   ]
  },
  {
   "cell_type": "code",
   "execution_count": null,
   "metadata": {},
   "outputs": [],
   "source": [
    "# Extract the ratings of each review (range [10-50])\n",
    "\n",
    "scores = []\n",
    "\n",
    "for i in range(0, len(urls)):\n",
    "    soup = BeautifulSoup(urls[i], 'lxml')\n",
    "    job_elems = soup.find_all('span', {'class': 'ui_bubble_rating'})\n",
    "    scores.append(job_elems[8:13])"
   ]
  },
  {
   "cell_type": "code",
   "execution_count": null,
   "metadata": {},
   "outputs": [],
   "source": [
    "# Extract the reviews \n",
    "\n",
    "reviews = []\n",
    "\n",
    "for i in range(0, len(urls)):\n",
    "    soup1 = BeautifulSoup(urls[i], 'lxml')\n",
    "    job_elems = soup1.find_all('div', {'class': 'cPQsENeY'})\n",
    "    reviews.append(job_elems)"
   ]
  },
  {
   "cell_type": "code",
   "execution_count": null,
   "metadata": {},
   "outputs": [],
   "source": [
    "# Create a list with the ratings\n",
    "\n",
    "scores_ = []\n",
    "\n",
    "for i in range(0, len(scores)):\n",
    "    for j in range(0, len(scores[i])):\n",
    "        a = str(scores[i][j])\n",
    "        scores_.append(int(a[37:39]))"
   ]
  },
  {
   "cell_type": "code",
   "execution_count": null,
   "metadata": {},
   "outputs": [],
   "source": [
    "# Create a list with the reviews\n",
    "\n",
    "reviews_ = []\n",
    "\n",
    "for i in range(0, len(reviews)):\n",
    "    for j in range(0, len(reviews[i])):\n",
    "        a = str(reviews[i][j])\n",
    "        reviews_.append(a)"
   ]
  },
  {
   "cell_type": "code",
   "execution_count": null,
   "metadata": {},
   "outputs": [],
   "source": [
    "# Function for removing the html tags from the reviews\n",
    "\n",
    "def cleanhtml(raw_html):\n",
    "    cleanr = re.compile('<.*?>')\n",
    "    cleantext = re.sub(cleanr, '', raw_html)\n",
    "    cleantext = str(cleantext)\n",
    "    return cleantext"
   ]
  },
  {
   "cell_type": "code",
   "execution_count": null,
   "metadata": {},
   "outputs": [],
   "source": [
    "# Remove the html tags from the text and save\n",
    "# the clean text in a new list\n",
    "\n",
    "revs = []\n",
    "\n",
    "for review in reviews_:\n",
    "    revs.append(cleanhtml(review ))"
   ]
  },
  {
   "cell_type": "code",
   "execution_count": null,
   "metadata": {},
   "outputs": [],
   "source": [
    "# Save the reviews and their scores in a \n",
    "# pandas DataFrame\n",
    "\n",
    "df = pd.DataFrame()\n",
    "df = pd.DataFrame(revs, columns = ['Review']) \n",
    "df['Scores'] = scores_\n",
    "df"
   ]
  }
 ],
 "metadata": {
  "kernelspec": {
   "display_name": "Python 3",
   "language": "python",
   "name": "python3"
  },
  "language_info": {
   "codemirror_mode": {
    "name": "ipython",
    "version": 3
   },
   "file_extension": ".py",
   "mimetype": "text/x-python",
   "name": "python",
   "nbconvert_exporter": "python",
   "pygments_lexer": "ipython3",
   "version": "3.8.3"
  }
 },
 "nbformat": 4,
 "nbformat_minor": 2
}
